{
  "nbformat": 4,
  "nbformat_minor": 0,
  "metadata": {
    "colab": {
      "provenance": [],
      "authorship_tag": "ABX9TyMJibb0EbHcpmdCz0NtY+D1",
      "include_colab_link": true
    },
    "kernelspec": {
      "name": "python3",
      "display_name": "Python 3"
    },
    "language_info": {
      "name": "python"
    }
  },
  "cells": [
    {
      "cell_type": "markdown",
      "metadata": {
        "id": "view-in-github",
        "colab_type": "text"
      },
      "source": [
        "<a href=\"https://colab.research.google.com/github/RaquelGui/colabGoogle/blob/main/Untitled0.ipynb\" target=\"_parent\"><img src=\"https://colab.research.google.com/assets/colab-badge.svg\" alt=\"Open In Colab\"/></a>"
      ]
    },
    {
      "cell_type": "markdown",
      "source": [
        "#Projeto ABC"
      ],
      "metadata": {
        "id": "CtxSGT-EkFxS"
      }
    },
    {
      "cell_type": "markdown",
      "source": [
        "##Importando módulos"
      ],
      "metadata": {
        "id": "15jsUMORkKlZ"
      }
    },
    {
      "cell_type": "code",
      "source": [
        "import pandas as pd"
      ],
      "metadata": {
        "id": "xZFb-tIgjwTQ"
      },
      "execution_count": 4,
      "outputs": []
    },
    {
      "cell_type": "code",
      "source": [
        "import numpy as np"
      ],
      "metadata": {
        "id": "t4uQZJmMj54E"
      },
      "execution_count": 7,
      "outputs": []
    },
    {
      "cell_type": "code",
      "source": [
        "print(\"Este é um texto qualquer\")"
      ],
      "metadata": {
        "colab": {
          "base_uri": "https://localhost:8080/"
        },
        "id": "9DrRxhZTj9Fe",
        "outputId": "ef122b96-842e-41c9-84fa-38a7fa2b36f4"
      },
      "execution_count": 8,
      "outputs": [
        {
          "output_type": "stream",
          "name": "stdout",
          "text": [
            "Este é um texto qualquer\n"
          ]
        }
      ]
    },
    {
      "cell_type": "markdown",
      "source": [
        "##Importar Dados"
      ],
      "metadata": {
        "id": "90pd8HsfkbYR"
      }
    },
    {
      "cell_type": "code",
      "source": [
        "#Rotina de Importação"
      ],
      "metadata": {
        "id": "5t_GLBHFkVyp"
      },
      "execution_count": 9,
      "outputs": []
    },
    {
      "cell_type": "code",
      "source": [
        "###Tratar Dados"
      ],
      "metadata": {
        "id": "S9rpMMygkkYV"
      },
      "execution_count": 11,
      "outputs": []
    },
    {
      "cell_type": "code",
      "source": [],
      "metadata": {
        "id": "LFVfw8K5klcT"
      },
      "execution_count": null,
      "outputs": []
    }
  ]
}